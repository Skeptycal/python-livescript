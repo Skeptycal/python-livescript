{
 "metadata": {
  "name": "",
  "signature": "sha256:1e10e460c00665b2d8a2f66d057f5cc64220e47e5fec6d016b80bbac6c2761df"
 },
 "nbformat": 3,
 "nbformat_minor": 0,
 "worksheets": [
  {
   "cells": [
    {
     "cell_type": "code",
     "collapsed": false,
     "input": [
      "# noexport\n",
      "\n",
      "import os\n",
      "os.system('export_notebook __init__.ipynb')"
     ],
     "language": "python",
     "metadata": {},
     "outputs": [
      {
       "metadata": {},
       "output_type": "pyout",
       "prompt_number": 2,
       "text": [
        "0"
       ]
      }
     ],
     "prompt_number": 2
    },
    {
     "cell_type": "code",
     "collapsed": false,
     "input": [
      "#!/usr/bin/env python3\n",
      "# -*- coding: utf8 -*-\n",
      "from __future__ import division, unicode_literals, print_function\n",
      "\n",
      "# Copyright (c) 2015 Geza Kovacs https://github.com/gkovacs\n",
      "# Released under the MIT license.\n",
      "\n",
      "\"\"\"\n",
      "Python LiveScript lets you execute LiveScript code from Python\n",
      "\n",
      "  >>> from livescript import lseval\n",
      "  >>> result = lseval('''\n",
      "        require! 'fs'\n",
      "        return fs.readdirSync('.')\n",
      "      ''')\n",
      "\"\"\"\n",
      "\n",
      "__license__ = str('MIT License')\n",
      "\n",
      "__version__ = str('1.0.0')\n",
      "\n",
      "__author__ = str('Geza Kovacs')\n",
      "\n",
      "__all__ = str('''\n",
      "  lseval\n",
      "''').split()\n",
      "\n",
      "import os\n",
      "import io\n",
      "import execjs\n",
      "import textwrap\n",
      "\n",
      "node = execjs.get('Node')\n",
      "\n",
      "#livescript_context = node.compile('''\n",
      "#(function() {\n",
      "#path = require('path')\n",
      "#realrequire = require\n",
      "#require = function(x) {\n",
      "#  return realrequire(path.join(process.cwd(), 'node_modules', x))\n",
      "#}\n",
      "#LiveScript = require('LiveScript')\n",
      "#})()\n",
      "#''')\n",
      "\n",
      "try:\n",
      "  livescript_filepath = os.path.join(os.path.dirname(__file__), 'livescript.js')\n",
      "except:\n",
      "  livescript_filepath = os.path.join(os.getcwd(), 'livescript.js')\n",
      "livescript_context = node.compile('''\n",
      "(function() {\n",
      "''' + io.open(livescript_filepath, encoding='utf8').read() + '''\n",
      "LiveScript = require('LiveScript')\n",
      "})()\n",
      "''')\n",
      "\n",
      "exec_context = node.compile('''\n",
      "(function() {\n",
      "var path = require('path')\n",
      "var fs = require('fs')\n",
      "var realrequire = require\n",
      "var cached_requires = {}\n",
      "require = function(x) {\n",
      "  if (cached_requires[x] != null) return cached_requires[x]\n",
      "  var module_path = path.join(process.cwd(), 'node_modules', x)\n",
      "  if (fs.existsSync(module_path))\n",
      "    cached_requires[x] = realrequire(module_path)\n",
      "  else\n",
      "    cached_requires[x] = realrequire(x)\n",
      "  return cached_requires[x]\n",
      "}\n",
      "})()\n",
      "''')\n",
      "\n",
      "def remove_trailing_semicolon(program):\n",
      "  if program[-1] == ';':\n",
      "    return program[:-1]\n",
      "  return program\n",
      "\n",
      "def wrap_do_statement(program):\n",
      "  lines = textwrap.dedent(program).split('\\n')\n",
      "  output = []\n",
      "  output.append('do ->')\n",
      "  for line in lines:\n",
      "    output.append('  ' + line)\n",
      "  return '\\n'.join(output)\n",
      "\n",
      "def lscompile_real(program, options):\n",
      "  return livescript_context.call('LiveScript.compile', program, options)\n",
      "\n",
      "def lscompile(program):\n",
      "  return remove_trailing_semicolon(lscompile_real(wrap_do_statement(program), {'bare': True, 'header': False}))\n",
      "\n",
      "def lseval(program):\n",
      "  compiled = lscompile(program)\n",
      "  return exec_context.eval(compiled)\n",
      "\n"
     ],
     "language": "python",
     "metadata": {},
     "outputs": [],
     "prompt_number": 102
    },
    {
     "cell_type": "code",
     "collapsed": false,
     "input": [
      "# noexport\n",
      "\n",
      "print(lseval('''\n",
      "      require! lson\n",
      "      lson.parse('<[the quick brown fox]>')\n",
      "'''))"
     ],
     "language": "python",
     "metadata": {},
     "outputs": [
      {
       "output_type": "stream",
       "stream": "stdout",
       "text": [
        "[u'the', u'quick', u'brown', u'fox']\n"
       ]
      }
     ],
     "prompt_number": 103
    }
   ],
   "metadata": {}
  }
 ]
}